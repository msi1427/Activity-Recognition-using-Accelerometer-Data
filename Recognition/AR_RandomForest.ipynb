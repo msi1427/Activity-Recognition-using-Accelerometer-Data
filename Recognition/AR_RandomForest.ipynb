{
  "nbformat": 4,
  "nbformat_minor": 0,
  "metadata": {
    "colab": {
      "name": "confusion_AR_RandomForest.ipynb",
      "provenance": [],
      "collapsed_sections": []
    },
    "kernelspec": {
      "name": "python3",
      "display_name": "Python 3"
    },
    "accelerator": "GPU"
  },
  "cells": [
    {
      "cell_type": "code",
      "metadata": {
        "id": "p2jlmzJQgKd-",
        "colab_type": "code",
        "colab": {}
      },
      "source": [
        "import pandas as pd\n",
        "import numpy as np\n",
        "from sklearn.model_selection import train_test_split\n",
        "from sklearn.preprocessing import StandardScaler, LabelEncoder\n",
        "from sklearn.neighbors import KNeighborsClassifier\n",
        "import scipy.stats as stats\n",
        "from sklearn import metrics"
      ],
      "execution_count": null,
      "outputs": []
    },
    {
      "cell_type": "code",
      "metadata": {
        "id": "KxUDjpem9Lm3",
        "colab_type": "code",
        "colab": {
          "base_uri": "https://localhost:8080/",
          "height": 35
        },
        "outputId": "5594a443-edda-4ceb-bae7-ffcfab1cd8b9"
      },
      "source": [
        "from google.colab import drive\n",
        "drive.mount('/content/drive')"
      ],
      "execution_count": null,
      "outputs": [
        {
          "output_type": "stream",
          "text": [
            "Drive already mounted at /content/drive; to attempt to forcibly remount, call drive.mount(\"/content/drive\", force_remount=True).\n"
          ],
          "name": "stdout"
        }
      ]
    },
    {
      "cell_type": "code",
      "metadata": {
        "id": "WX1SVy1Bgriy",
        "colab_type": "code",
        "colab": {
          "base_uri": "https://localhost:8080/",
          "height": 407
        },
        "outputId": "da3de5c2-7692-4a69-cf20-19b5e5022e3b"
      },
      "source": [
        "data = pd.read_csv('/content/drive/My Drive/Colab Notebooks/AR DATASET/merged_processed_data.csv')\n",
        "data"
      ],
      "execution_count": null,
      "outputs": [
        {
          "output_type": "execute_result",
          "data": {
            "text/html": [
              "<div>\n",
              "<style scoped>\n",
              "    .dataframe tbody tr th:only-of-type {\n",
              "        vertical-align: middle;\n",
              "    }\n",
              "\n",
              "    .dataframe tbody tr th {\n",
              "        vertical-align: top;\n",
              "    }\n",
              "\n",
              "    .dataframe thead th {\n",
              "        text-align: right;\n",
              "    }\n",
              "</style>\n",
              "<table border=\"1\" class=\"dataframe\">\n",
              "  <thead>\n",
              "    <tr style=\"text-align: right;\">\n",
              "      <th></th>\n",
              "      <th>Unnamed: 0</th>\n",
              "      <th>Unnamed: 0.1</th>\n",
              "      <th>user_id</th>\n",
              "      <th>datetime</th>\n",
              "      <th>x</th>\n",
              "      <th>y</th>\n",
              "      <th>z</th>\n",
              "      <th>label</th>\n",
              "    </tr>\n",
              "  </thead>\n",
              "  <tbody>\n",
              "    <tr>\n",
              "      <th>0</th>\n",
              "      <td>0</td>\n",
              "      <td>345818</td>\n",
              "      <td>1</td>\n",
              "      <td>2018-07-25 11:14:18.104000+10:00</td>\n",
              "      <td>-0.306</td>\n",
              "      <td>0.612</td>\n",
              "      <td>9.779</td>\n",
              "      <td>5.0</td>\n",
              "    </tr>\n",
              "    <tr>\n",
              "      <th>1</th>\n",
              "      <td>1</td>\n",
              "      <td>67171</td>\n",
              "      <td>1</td>\n",
              "      <td>2018-07-25 17:25:32.409000+10:00</td>\n",
              "      <td>2.221</td>\n",
              "      <td>9.538</td>\n",
              "      <td>0.116</td>\n",
              "      <td>8.0</td>\n",
              "    </tr>\n",
              "    <tr>\n",
              "      <th>2</th>\n",
              "      <td>2</td>\n",
              "      <td>67154</td>\n",
              "      <td>1</td>\n",
              "      <td>2018-07-25 17:25:32.409000+10:00</td>\n",
              "      <td>2.221</td>\n",
              "      <td>9.538</td>\n",
              "      <td>0.116</td>\n",
              "      <td>8.0</td>\n",
              "    </tr>\n",
              "    <tr>\n",
              "      <th>3</th>\n",
              "      <td>3</td>\n",
              "      <td>103187</td>\n",
              "      <td>1</td>\n",
              "      <td>2018-07-25 17:25:32.208000+10:00</td>\n",
              "      <td>2.145</td>\n",
              "      <td>9.385</td>\n",
              "      <td>0.158</td>\n",
              "      <td>8.0</td>\n",
              "    </tr>\n",
              "    <tr>\n",
              "      <th>4</th>\n",
              "      <td>4</td>\n",
              "      <td>103230</td>\n",
              "      <td>1</td>\n",
              "      <td>2018-07-25 17:25:32.208000+10:00</td>\n",
              "      <td>2.145</td>\n",
              "      <td>9.385</td>\n",
              "      <td>0.158</td>\n",
              "      <td>8.0</td>\n",
              "    </tr>\n",
              "    <tr>\n",
              "      <th>...</th>\n",
              "      <td>...</td>\n",
              "      <td>...</td>\n",
              "      <td>...</td>\n",
              "      <td>...</td>\n",
              "      <td>...</td>\n",
              "      <td>...</td>\n",
              "      <td>...</td>\n",
              "      <td>...</td>\n",
              "    </tr>\n",
              "    <tr>\n",
              "      <th>1908851</th>\n",
              "      <td>1908851</td>\n",
              "      <td>4419939</td>\n",
              "      <td>51</td>\n",
              "      <td>2018-12-24 10:46:07.573000+09:00</td>\n",
              "      <td>-0.612</td>\n",
              "      <td>9.653</td>\n",
              "      <td>0.005</td>\n",
              "      <td>12.0</td>\n",
              "    </tr>\n",
              "    <tr>\n",
              "      <th>1908852</th>\n",
              "      <td>1908852</td>\n",
              "      <td>4419940</td>\n",
              "      <td>51</td>\n",
              "      <td>2018-12-24 10:46:07.573000+09:00</td>\n",
              "      <td>-0.612</td>\n",
              "      <td>9.653</td>\n",
              "      <td>0.005</td>\n",
              "      <td>12.0</td>\n",
              "    </tr>\n",
              "    <tr>\n",
              "      <th>1908853</th>\n",
              "      <td>1908853</td>\n",
              "      <td>4419937</td>\n",
              "      <td>51</td>\n",
              "      <td>2018-12-24 10:46:07.567000+09:00</td>\n",
              "      <td>-0.612</td>\n",
              "      <td>9.653</td>\n",
              "      <td>0.005</td>\n",
              "      <td>12.0</td>\n",
              "    </tr>\n",
              "    <tr>\n",
              "      <th>1908854</th>\n",
              "      <td>1908854</td>\n",
              "      <td>4419936</td>\n",
              "      <td>51</td>\n",
              "      <td>2018-12-24 10:46:05.757000+09:00</td>\n",
              "      <td>3.524</td>\n",
              "      <td>9.998</td>\n",
              "      <td>0.227</td>\n",
              "      <td>12.0</td>\n",
              "    </tr>\n",
              "    <tr>\n",
              "      <th>1908855</th>\n",
              "      <td>1908855</td>\n",
              "      <td>2635603</td>\n",
              "      <td>51</td>\n",
              "      <td>2018-12-19 21:51:33.479000+09:00</td>\n",
              "      <td>0.459</td>\n",
              "      <td>10.458</td>\n",
              "      <td>1.861</td>\n",
              "      <td>12.0</td>\n",
              "    </tr>\n",
              "  </tbody>\n",
              "</table>\n",
              "<p>1908856 rows × 8 columns</p>\n",
              "</div>"
            ],
            "text/plain": [
              "         Unnamed: 0  Unnamed: 0.1  user_id  ...       y      z  label\n",
              "0                 0        345818        1  ...   0.612  9.779    5.0\n",
              "1                 1         67171        1  ...   9.538  0.116    8.0\n",
              "2                 2         67154        1  ...   9.538  0.116    8.0\n",
              "3                 3        103187        1  ...   9.385  0.158    8.0\n",
              "4                 4        103230        1  ...   9.385  0.158    8.0\n",
              "...             ...           ...      ...  ...     ...    ...    ...\n",
              "1908851     1908851       4419939       51  ...   9.653  0.005   12.0\n",
              "1908852     1908852       4419940       51  ...   9.653  0.005   12.0\n",
              "1908853     1908853       4419937       51  ...   9.653  0.005   12.0\n",
              "1908854     1908854       4419936       51  ...   9.998  0.227   12.0\n",
              "1908855     1908855       2635603       51  ...  10.458  1.861   12.0\n",
              "\n",
              "[1908856 rows x 8 columns]"
            ]
          },
          "metadata": {
            "tags": []
          },
          "execution_count": 74
        }
      ]
    },
    {
      "cell_type": "code",
      "metadata": {
        "id": "D7wKSHjX9eEN",
        "colab_type": "code",
        "colab": {
          "base_uri": "https://localhost:8080/",
          "height": 181
        },
        "outputId": "387cfc12-de4e-4a5d-b780-863396e7110a"
      },
      "source": [
        "data['user_id'].value_counts()"
      ],
      "execution_count": null,
      "outputs": [
        {
          "output_type": "execute_result",
          "data": {
            "text/plain": [
              "18    955258\n",
              "4     444776\n",
              "7     184193\n",
              "1     139564\n",
              "19    131225\n",
              "8      27407\n",
              "51     25587\n",
              "38       846\n",
              "Name: user_id, dtype: int64"
            ]
          },
          "metadata": {
            "tags": []
          },
          "execution_count": 75
        }
      ]
    },
    {
      "cell_type": "code",
      "metadata": {
        "id": "8gVYLVb59epd",
        "colab_type": "code",
        "colab": {
          "base_uri": "https://localhost:8080/",
          "height": 254
        },
        "outputId": "f417c77d-fb78-4106-bfa4-9f8f34474d2e"
      },
      "source": [
        "data['label'].value_counts()"
      ],
      "execution_count": null,
      "outputs": [
        {
          "output_type": "execute_result",
          "data": {
            "text/plain": [
              "5.0     1077203\n",
              "4.0      301476\n",
              "7.0      118950\n",
              "12.0     110005\n",
              "3.0      109230\n",
              "8.0       55437\n",
              "9.0       48034\n",
              "1.0       37984\n",
              "10.0      13781\n",
              "2.0       13554\n",
              "11.0      12822\n",
              "6.0       10380\n",
              "Name: label, dtype: int64"
            ]
          },
          "metadata": {
            "tags": []
          },
          "execution_count": 76
        }
      ]
    },
    {
      "cell_type": "markdown",
      "metadata": {
        "id": "HSmJSt0D8SQB",
        "colab_type": "text"
      },
      "source": [
        "# Balancing"
      ]
    },
    {
      "cell_type": "code",
      "metadata": {
        "id": "3eGy5yhF8R7B",
        "colab_type": "code",
        "colab": {}
      },
      "source": [
        "# cnt = data['label'].value_counts()\n",
        "# mn = min(cnt);\n",
        "# print(mn)"
      ],
      "execution_count": null,
      "outputs": []
    },
    {
      "cell_type": "code",
      "metadata": {
        "id": "BUSdXvrK8ewP",
        "colab_type": "code",
        "colab": {}
      },
      "source": [
        "# labels = len(cnt) \n",
        "# balanced_data = pd.DataFrame()\n",
        "# for i in range(1,labels+1):\n",
        "#   balanced_data = balanced_data.append(data[data['label']==i].head(mn).copy())\n",
        "# balanced_data.shape"
      ],
      "execution_count": null,
      "outputs": []
    },
    {
      "cell_type": "code",
      "metadata": {
        "id": "ju9fa0OT8hf_",
        "colab_type": "code",
        "colab": {}
      },
      "source": [
        "# balanced_data['label'].value_counts()"
      ],
      "execution_count": null,
      "outputs": []
    },
    {
      "cell_type": "markdown",
      "metadata": {
        "id": "EhWCKWMmzJEE",
        "colab_type": "text"
      },
      "source": [
        "**Standardization**"
      ]
    },
    {
      "cell_type": "code",
      "metadata": {
        "id": "sr1c2dkZzO20",
        "colab_type": "code",
        "colab": {}
      },
      "source": [
        "X = data[['x','y','z']]\n",
        "y = data['label']"
      ],
      "execution_count": null,
      "outputs": []
    },
    {
      "cell_type": "code",
      "metadata": {
        "id": "feIv4RHEzho8",
        "colab_type": "code",
        "colab": {
          "base_uri": "https://localhost:8080/",
          "height": 407
        },
        "outputId": "6e325f58-c1e0-4c2c-ddce-60edd0c9f65a"
      },
      "source": [
        "scaler = StandardScaler()\n",
        "X = scaler.fit_transform(X)\n",
        "\n",
        "scaled_X = pd.DataFrame(data=X, columns=['x', 'y', 'z'])\n",
        "scaled_X['label'] = y.values\n",
        "\n",
        "scaled_X"
      ],
      "execution_count": null,
      "outputs": [
        {
          "output_type": "execute_result",
          "data": {
            "text/html": [
              "<div>\n",
              "<style scoped>\n",
              "    .dataframe tbody tr th:only-of-type {\n",
              "        vertical-align: middle;\n",
              "    }\n",
              "\n",
              "    .dataframe tbody tr th {\n",
              "        vertical-align: top;\n",
              "    }\n",
              "\n",
              "    .dataframe thead th {\n",
              "        text-align: right;\n",
              "    }\n",
              "</style>\n",
              "<table border=\"1\" class=\"dataframe\">\n",
              "  <thead>\n",
              "    <tr style=\"text-align: right;\">\n",
              "      <th></th>\n",
              "      <th>x</th>\n",
              "      <th>y</th>\n",
              "      <th>z</th>\n",
              "      <th>label</th>\n",
              "    </tr>\n",
              "  </thead>\n",
              "  <tbody>\n",
              "    <tr>\n",
              "      <th>0</th>\n",
              "      <td>-0.146030</td>\n",
              "      <td>-0.819383</td>\n",
              "      <td>1.881102</td>\n",
              "      <td>5.0</td>\n",
              "    </tr>\n",
              "    <tr>\n",
              "      <th>1</th>\n",
              "      <td>0.297393</td>\n",
              "      <td>1.181110</td>\n",
              "      <td>-0.539026</td>\n",
              "      <td>8.0</td>\n",
              "    </tr>\n",
              "    <tr>\n",
              "      <th>2</th>\n",
              "      <td>0.297393</td>\n",
              "      <td>1.181110</td>\n",
              "      <td>-0.539026</td>\n",
              "      <td>8.0</td>\n",
              "    </tr>\n",
              "    <tr>\n",
              "      <th>3</th>\n",
              "      <td>0.284057</td>\n",
              "      <td>1.146820</td>\n",
              "      <td>-0.528507</td>\n",
              "      <td>8.0</td>\n",
              "    </tr>\n",
              "    <tr>\n",
              "      <th>4</th>\n",
              "      <td>0.284057</td>\n",
              "      <td>1.146820</td>\n",
              "      <td>-0.528507</td>\n",
              "      <td>8.0</td>\n",
              "    </tr>\n",
              "    <tr>\n",
              "      <th>...</th>\n",
              "      <td>...</td>\n",
              "      <td>...</td>\n",
              "      <td>...</td>\n",
              "      <td>...</td>\n",
              "    </tr>\n",
              "    <tr>\n",
              "      <th>1908851</th>\n",
              "      <td>-0.199725</td>\n",
              "      <td>1.206884</td>\n",
              "      <td>-0.566826</td>\n",
              "      <td>12.0</td>\n",
              "    </tr>\n",
              "    <tr>\n",
              "      <th>1908852</th>\n",
              "      <td>-0.199725</td>\n",
              "      <td>1.206884</td>\n",
              "      <td>-0.566826</td>\n",
              "      <td>12.0</td>\n",
              "    </tr>\n",
              "    <tr>\n",
              "      <th>1908853</th>\n",
              "      <td>-0.199725</td>\n",
              "      <td>1.206884</td>\n",
              "      <td>-0.566826</td>\n",
              "      <td>12.0</td>\n",
              "    </tr>\n",
              "    <tr>\n",
              "      <th>1908854</th>\n",
              "      <td>0.526036</td>\n",
              "      <td>1.284205</td>\n",
              "      <td>-0.511226</td>\n",
              "      <td>12.0</td>\n",
              "    </tr>\n",
              "    <tr>\n",
              "      <th>1908855</th>\n",
              "      <td>-0.011792</td>\n",
              "      <td>1.387300</td>\n",
              "      <td>-0.101985</td>\n",
              "      <td>12.0</td>\n",
              "    </tr>\n",
              "  </tbody>\n",
              "</table>\n",
              "<p>1908856 rows × 4 columns</p>\n",
              "</div>"
            ],
            "text/plain": [
              "                x         y         z  label\n",
              "0       -0.146030 -0.819383  1.881102    5.0\n",
              "1        0.297393  1.181110 -0.539026    8.0\n",
              "2        0.297393  1.181110 -0.539026    8.0\n",
              "3        0.284057  1.146820 -0.528507    8.0\n",
              "4        0.284057  1.146820 -0.528507    8.0\n",
              "...           ...       ...       ...    ...\n",
              "1908851 -0.199725  1.206884 -0.566826   12.0\n",
              "1908852 -0.199725  1.206884 -0.566826   12.0\n",
              "1908853 -0.199725  1.206884 -0.566826   12.0\n",
              "1908854  0.526036  1.284205 -0.511226   12.0\n",
              "1908855 -0.011792  1.387300 -0.101985   12.0\n",
              "\n",
              "[1908856 rows x 4 columns]"
            ]
          },
          "metadata": {
            "tags": []
          },
          "execution_count": 81
        }
      ]
    },
    {
      "cell_type": "markdown",
      "metadata": {
        "id": "FlitRDa0z580",
        "colab_type": "text"
      },
      "source": [
        "**Framing**"
      ]
    },
    {
      "cell_type": "code",
      "metadata": {
        "id": "Wbb1pmuUz_mG",
        "colab_type": "code",
        "colab": {}
      },
      "source": [
        "frame_size = 240\n",
        "hop_size = 15"
      ],
      "execution_count": null,
      "outputs": []
    },
    {
      "cell_type": "code",
      "metadata": {
        "id": "UqZpKZ0ie431",
        "colab_type": "code",
        "colab": {}
      },
      "source": [
        "def get_frames(df, frame_size, hop_size):\n",
        "    \n",
        "    N_FEATURES = 3\n",
        "    \n",
        "    frames = []\n",
        "    labels = []\n",
        "    \n",
        "    for i in range(0, len(df)-frame_size, hop_size):\n",
        "        x = df['x'].values[i: i+frame_size]\n",
        "        y = df['y'].values[i: i+frame_size]\n",
        "        z = df['z'].values[i: i+frame_size]\n",
        "        \n",
        "        label = stats.mode(df['label'][i: i+frame_size])[0][0]\n",
        "\n",
        "        frames.append([x, y, z])\n",
        "        labels.append(label)\n",
        "        \n",
        "    frames = np.asarray(frames).reshape(-1, frame_size, N_FEATURES)\n",
        "    labels = np.asarray(labels)\n",
        "    \n",
        "    return frames, labels"
      ],
      "execution_count": null,
      "outputs": []
    },
    {
      "cell_type": "code",
      "metadata": {
        "id": "URTPz4QLe98I",
        "colab_type": "code",
        "colab": {
          "base_uri": "https://localhost:8080/",
          "height": 35
        },
        "outputId": "410f4ac0-a65b-4651-9917-518744da5c58"
      },
      "source": [
        "Frame_X, y = get_frames(scaled_X, frame_size, hop_size)\n",
        "Frame_X.shape, y.shape"
      ],
      "execution_count": null,
      "outputs": [
        {
          "output_type": "execute_result",
          "data": {
            "text/plain": [
              "((127242, 240, 3), (127242,))"
            ]
          },
          "metadata": {
            "tags": []
          },
          "execution_count": 84
        }
      ]
    },
    {
      "cell_type": "markdown",
      "metadata": {
        "id": "zdUhMxAWgL8y",
        "colab_type": "text"
      },
      "source": [
        "**Feature Extraction (Mean, Median, Mode, Variance, Standard Deviation, RMS)**"
      ]
    },
    {
      "cell_type": "code",
      "metadata": {
        "id": "bSq256kpgkJp",
        "colab_type": "code",
        "colab": {
          "base_uri": "https://localhost:8080/",
          "height": 35
        },
        "outputId": "dde93ac9-f8de-417a-bc72-e0019dd0d5d7"
      },
      "source": [
        "X = []\n",
        "# Mean_X = []\n",
        "# Median_X = []\n",
        "# Mode_X = []\n",
        "# Var_X = []\n",
        "# Std_X = []\n",
        "# RMS_X = []\n",
        "N_FEATURES = 6\n",
        "for i in range(Frame_X.shape[0]):\n",
        "  mean_X = np.mean(Frame_X[i],axis=0)\n",
        "  median_X = np.median(Frame_X[i],axis=0)\n",
        "  mode_X = np.asarray(stats.mode(Frame_X[i])[0][0])\n",
        "  variance_X = np.var(Frame_X[i],axis=0)\n",
        "  std_deviation_X = np.std(Frame_X[i],axis=0)\n",
        "  rms_X = np.sqrt(np.mean(np.square(Frame_X[i]),axis=0))\n",
        "  # comb = np.array([mean_X,median_X,mode_X,variance_X,std_deviation_X,rms_X])\n",
        "  comb = np.array([mean_X,median_X,mode_X,variance_X,std_deviation_X,rms_X])\n",
        "  X.append(comb.reshape(-1))\n",
        "  # Mean_X.append(mean_X)\n",
        "  # Median_X.append(median_X)\n",
        "  # Mode_X.append(mode_X)\n",
        "  # Var_X.append(variance_X)\n",
        "  # Std_X.append(std_deviation_X)\n",
        "  # RMS_X.append(rms_X)\n",
        "X = np.asarray(X)\n",
        "# Mean_X = np.asarray(Mean_X)\n",
        "# Median_X = np.asarray(Median_X)\n",
        "# Mode_X = np.asarray(Mode_X)\n",
        "# Var_X = np.asarray(Var_X)\n",
        "# Std_X = np.asarray(Std_X)\n",
        "# RMS_X = np.asarray(RMS_X)\n",
        "X.shape"
      ],
      "execution_count": null,
      "outputs": [
        {
          "output_type": "execute_result",
          "data": {
            "text/plain": [
              "(127242, 18)"
            ]
          },
          "metadata": {
            "tags": []
          },
          "execution_count": 85
        }
      ]
    },
    {
      "cell_type": "markdown",
      "metadata": {
        "id": "QUC394cg9eW6",
        "colab_type": "text"
      },
      "source": [
        "**Training and Testing data split**"
      ]
    },
    {
      "cell_type": "code",
      "metadata": {
        "id": "ghuqxV9ofUSI",
        "colab_type": "code",
        "colab": {
          "base_uri": "https://localhost:8080/",
          "height": 35
        },
        "outputId": "15bd7e02-14f9-4467-f0ca-6d574440bd93"
      },
      "source": [
        "X_train, X_test, y_train, y_test = train_test_split(X, y, test_size = 0.2, random_state = 0, stratify = y)\n",
        "X_train.shape, X_test.shape, y_train.shape, y_test.shape"
      ],
      "execution_count": null,
      "outputs": [
        {
          "output_type": "execute_result",
          "data": {
            "text/plain": [
              "((101793, 18), (25449, 18), (101793,), (25449,))"
            ]
          },
          "metadata": {
            "tags": []
          },
          "execution_count": 86
        }
      ]
    },
    {
      "cell_type": "markdown",
      "metadata": {
        "id": "KoQnSrb0Z-In",
        "colab_type": "text"
      },
      "source": [
        "# Random Forest"
      ]
    },
    {
      "cell_type": "code",
      "metadata": {
        "id": "mi4lcaDEaMlQ",
        "colab_type": "code",
        "colab": {
          "base_uri": "https://localhost:8080/",
          "height": 35
        },
        "outputId": "85d15975-dfe3-4a63-888a-db907ce690da"
      },
      "source": [
        "from sklearn.ensemble import RandomForestRegressor\n",
        "\n",
        "rf = RandomForestRegressor(n_estimators = 1000, random_state = 42)\n",
        "\n",
        "rf.fit(X_train, y_train);\n",
        "\n",
        "predictions = rf.predict(X_test)\n",
        "\n",
        "errors = abs (predictions - y_test)\n",
        "print('Mean Absolute Error: ', round(np.mean(errors),2))"
      ],
      "execution_count": null,
      "outputs": [
        {
          "output_type": "stream",
          "text": [
            "Mean Absolute Error:  0.58\n"
          ],
          "name": "stdout"
        }
      ]
    },
    {
      "cell_type": "markdown",
      "metadata": {
        "id": "9XASgBmea98k",
        "colab_type": "text"
      },
      "source": [
        "# Performance"
      ]
    },
    {
      "cell_type": "code",
      "metadata": {
        "id": "BRq6_waebAcN",
        "colab_type": "code",
        "colab": {}
      },
      "source": [
        "#Mean Absolute Percentage Error\n",
        "mape = 100*(errors/y_test) "
      ],
      "execution_count": null,
      "outputs": []
    },
    {
      "cell_type": "code",
      "metadata": {
        "id": "4CZXHs4jbC0I",
        "colab_type": "code",
        "colab": {
          "base_uri": "https://localhost:8080/",
          "height": 35
        },
        "outputId": "64bb087b-21ad-4f50-e847-54a290a81e15"
      },
      "source": [
        "accuracy = 100 - np.mean(mape)\n",
        "print('Accuracy: ', round(accuracy,2), '%')"
      ],
      "execution_count": null,
      "outputs": [
        {
          "output_type": "stream",
          "text": [
            "Accuracy:  85.04 %\n"
          ],
          "name": "stdout"
        }
      ]
    },
    {
      "cell_type": "code",
      "metadata": {
        "id": "TJqub0SEbGBd",
        "colab_type": "code",
        "colab": {
          "base_uri": "https://localhost:8080/",
          "height": 35
        },
        "outputId": "8d981430-3421-4186-8cb1-2962077c94e3"
      },
      "source": [
        "#Score\n",
        "print('Score: ',rf.score(X_test, y_test)*100,'%')"
      ],
      "execution_count": null,
      "outputs": [
        {
          "output_type": "stream",
          "text": [
            "Score:  70.16656448452298 %\n"
          ],
          "name": "stdout"
        }
      ]
    },
    {
      "cell_type": "code",
      "metadata": {
        "id": "Vau38IWehNqX",
        "colab_type": "code",
        "colab": {
          "base_uri": "https://localhost:8080/",
          "height": 35
        },
        "outputId": "14c2f183-1ee3-42ae-f938-4e56690c795e"
      },
      "source": [
        "y_pred = np.round(predictions) \n",
        "y_pred"
      ],
      "execution_count": null,
      "outputs": [
        {
          "output_type": "execute_result",
          "data": {
            "text/plain": [
              "array([5., 8., 8., ..., 5., 5., 7.])"
            ]
          },
          "metadata": {
            "tags": []
          },
          "execution_count": 91
        }
      ]
    },
    {
      "cell_type": "code",
      "metadata": {
        "id": "97oXuo83dYzk",
        "colab_type": "code",
        "colab": {
          "base_uri": "https://localhost:8080/",
          "height": 454
        },
        "outputId": "58a7b16d-6fde-472f-cb5c-5659e11cefe6"
      },
      "source": [
        "import numpy as np\n",
        "import pandas as pd\n",
        "import matplotlib.pyplot as plt\n",
        "import seaborn as sns\n",
        "from sklearn.metrics import confusion_matrix\n",
        "cm = confusion_matrix(y_test, y_pred)\n",
        "cm"
      ],
      "execution_count": null,
      "outputs": [
        {
          "output_type": "execute_result",
          "data": {
            "text/plain": [
              "array([[   65,   104,   111,   140,    88,    24,     4,     4,     0,\n",
              "            0,     0,     0],\n",
              "       [    1,    39,    38,    39,    30,     9,     5,     5,     0,\n",
              "            0,     0,     0],\n",
              "       [    0,     0,   213,   658,   411,   111,    19,     4,     5,\n",
              "            4,     0,     0],\n",
              "       [    0,     1,     5,  1993,  1568,   303,    70,    23,    10,\n",
              "            5,     2,     0],\n",
              "       [    0,     0,     9,   169, 13334,   761,   110,    28,     7,\n",
              "            2,     1,     0],\n",
              "       [    0,     0,     0,     1,    24,    72,    17,     2,     2,\n",
              "            1,     0,     0],\n",
              "       [    0,     0,     2,    11,   288,   663,   577,    26,     7,\n",
              "            2,     0,     0],\n",
              "       [    0,     0,     2,     5,    36,   106,   143,   332,   121,\n",
              "           20,     5,     0],\n",
              "       [    0,     0,     0,     4,    16,    58,   100,   136,   311,\n",
              "           21,     1,     0],\n",
              "       [    0,     0,     0,     0,     4,     8,    13,    27,    35,\n",
              "           68,     6,     0],\n",
              "       [    0,     1,     0,     0,     3,     1,     7,    17,    30,\n",
              "           42,    55,     2],\n",
              "       [    0,     1,     1,     5,    50,   109,   153,   176,   180,\n",
              "          217,   211,   383]])"
            ]
          },
          "metadata": {
            "tags": []
          },
          "execution_count": 92
        }
      ]
    },
    {
      "cell_type": "markdown",
      "metadata": {
        "id": "rrj2IRWLd4TL",
        "colab_type": "text"
      },
      "source": [
        "processdata lab -\n",
        "\n",
        "(unbalanced) (30-10) -> 51.61\n",
        "\n",
        "(balanced) (30-10) -> 71.15\n",
        "\n"
      ]
    },
    {
      "cell_type": "code",
      "metadata": {
        "id": "eXf6Y7AZ8hRl",
        "colab_type": "code",
        "colab": {}
      },
      "source": [
        "# frame_size = 240\n",
        "# hop_size = 30\n",
        "#Score:  73.10925438281703 %\n",
        "#with balanced user datqaa"
      ],
      "execution_count": null,
      "outputs": []
    },
    {
      "cell_type": "code",
      "metadata": {
        "id": "EnYO1-hh9GRc",
        "colab_type": "code",
        "colab": {}
      },
      "source": [
        "# frame_size = 240\n",
        "# hop_size = 15\n",
        "#Score:  87.95500213926748 %\n",
        "#with balanced user data only"
      ],
      "execution_count": null,
      "outputs": []
    },
    {
      "cell_type": "code",
      "metadata": {
        "id": "vJtkV7ur-Zok",
        "colab_type": "code",
        "colab": {}
      },
      "source": [
        "# frame_size = 240\n",
        "# hop_size = 15\n",
        "#Score:  76.8757029755651 %\n",
        "#with balanced merged data"
      ],
      "execution_count": null,
      "outputs": []
    },
    {
      "cell_type": "code",
      "metadata": {
        "id": "gzxf1AW_y-x5",
        "colab_type": "code",
        "colab": {}
      },
      "source": [
        ""
      ],
      "execution_count": null,
      "outputs": []
    }
  ]
}