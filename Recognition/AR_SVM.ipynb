{
  "nbformat": 4,
  "nbformat_minor": 0,
  "metadata": {
    "colab": {
      "name": "AR_SVM.ipynb",
      "provenance": [],
      "collapsed_sections": [],
      "toc_visible": true
    },
    "kernelspec": {
      "name": "python3",
      "display_name": "Python 3"
    }
  },
  "cells": [
    {
      "cell_type": "code",
      "metadata": {
        "id": "p2jlmzJQgKd-",
        "colab_type": "code",
        "colab": {}
      },
      "source": [
        "import pandas as pd\n",
        "import numpy as np\n",
        "from sklearn.model_selection import train_test_split\n",
        "from sklearn.preprocessing import StandardScaler, LabelEncoder\n",
        "from sklearn.neighbors import KNeighborsClassifier\n",
        "import scipy.stats as stats"
      ],
      "execution_count": null,
      "outputs": []
    },
    {
      "cell_type": "code",
      "metadata": {
        "id": "WX1SVy1Bgriy",
        "colab_type": "code",
        "colab": {}
      },
      "source": [
        "data = pd.read_csv('/content/processeddataLab.csv')"
      ],
      "execution_count": null,
      "outputs": []
    },
    {
      "cell_type": "code",
      "metadata": {
        "id": "Jn7OqiTfh-zZ",
        "colab_type": "code",
        "colab": {
          "base_uri": "https://localhost:8080/",
          "height": 204
        },
        "outputId": "3ab70922-529e-4412-afd2-cdf764f27108"
      },
      "source": [
        "data.head()"
      ],
      "execution_count": null,
      "outputs": [
        {
          "output_type": "execute_result",
          "data": {
            "text/html": [
              "<div>\n",
              "<style scoped>\n",
              "    .dataframe tbody tr th:only-of-type {\n",
              "        vertical-align: middle;\n",
              "    }\n",
              "\n",
              "    .dataframe tbody tr th {\n",
              "        vertical-align: top;\n",
              "    }\n",
              "\n",
              "    .dataframe thead th {\n",
              "        text-align: right;\n",
              "    }\n",
              "</style>\n",
              "<table border=\"1\" class=\"dataframe\">\n",
              "  <thead>\n",
              "    <tr style=\"text-align: right;\">\n",
              "      <th></th>\n",
              "      <th>Unnamed: 0</th>\n",
              "      <th>user_id</th>\n",
              "      <th>datetime</th>\n",
              "      <th>x</th>\n",
              "      <th>y</th>\n",
              "      <th>z</th>\n",
              "      <th>label</th>\n",
              "    </tr>\n",
              "  </thead>\n",
              "  <tbody>\n",
              "    <tr>\n",
              "      <th>0</th>\n",
              "      <td>0</td>\n",
              "      <td>1</td>\n",
              "      <td>2018-07-25T14:58:46.247+1000</td>\n",
              "      <td>0.612</td>\n",
              "      <td>7.7</td>\n",
              "      <td>0.0</td>\n",
              "      <td>11</td>\n",
              "    </tr>\n",
              "    <tr>\n",
              "      <th>1</th>\n",
              "      <td>1</td>\n",
              "      <td>1</td>\n",
              "      <td>2018-07-25T14:55:30.396+1000</td>\n",
              "      <td>5.286</td>\n",
              "      <td>7.7</td>\n",
              "      <td>0.0</td>\n",
              "      <td>10</td>\n",
              "    </tr>\n",
              "    <tr>\n",
              "      <th>2</th>\n",
              "      <td>2</td>\n",
              "      <td>1</td>\n",
              "      <td>2018-07-25T14:55:30.402+1000</td>\n",
              "      <td>5.286</td>\n",
              "      <td>7.7</td>\n",
              "      <td>0.0</td>\n",
              "      <td>10</td>\n",
              "    </tr>\n",
              "    <tr>\n",
              "      <th>3</th>\n",
              "      <td>3</td>\n",
              "      <td>1</td>\n",
              "      <td>2018-07-25T14:58:46.247+1000</td>\n",
              "      <td>0.612</td>\n",
              "      <td>7.7</td>\n",
              "      <td>0.0</td>\n",
              "      <td>11</td>\n",
              "    </tr>\n",
              "    <tr>\n",
              "      <th>4</th>\n",
              "      <td>4</td>\n",
              "      <td>1</td>\n",
              "      <td>2018-07-25T14:55:30.396+1000</td>\n",
              "      <td>5.286</td>\n",
              "      <td>7.7</td>\n",
              "      <td>0.0</td>\n",
              "      <td>10</td>\n",
              "    </tr>\n",
              "  </tbody>\n",
              "</table>\n",
              "</div>"
            ],
            "text/plain": [
              "   Unnamed: 0  user_id                      datetime      x    y    z  label\n",
              "0           0        1  2018-07-25T14:58:46.247+1000  0.612  7.7  0.0     11\n",
              "1           1        1  2018-07-25T14:55:30.396+1000  5.286  7.7  0.0     10\n",
              "2           2        1  2018-07-25T14:55:30.402+1000  5.286  7.7  0.0     10\n",
              "3           3        1  2018-07-25T14:58:46.247+1000  0.612  7.7  0.0     11\n",
              "4           4        1  2018-07-25T14:55:30.396+1000  5.286  7.7  0.0     10"
            ]
          },
          "metadata": {
            "tags": []
          },
          "execution_count": 5
        }
      ]
    },
    {
      "cell_type": "markdown",
      "metadata": {
        "id": "fVCpaEBT66y-",
        "colab_type": "text"
      },
      "source": [
        "# New Section"
      ]
    },
    {
      "cell_type": "code",
      "metadata": {
        "id": "tXH14UFnhE0a",
        "colab_type": "code",
        "colab": {
          "base_uri": "https://localhost:8080/",
          "height": 255
        },
        "outputId": "e6d71b62-4be3-4136-ac3c-88d7ba93fa63"
      },
      "source": [
        "data.info()"
      ],
      "execution_count": null,
      "outputs": [
        {
          "output_type": "stream",
          "text": [
            "<class 'pandas.core.frame.DataFrame'>\n",
            "RangeIndex: 270789 entries, 0 to 270788\n",
            "Data columns (total 7 columns):\n",
            " #   Column      Non-Null Count   Dtype  \n",
            "---  ------      --------------   -----  \n",
            " 0   Unnamed: 0  270789 non-null  int64  \n",
            " 1   user_id     270789 non-null  int64  \n",
            " 2   datetime    270789 non-null  object \n",
            " 3   x           270789 non-null  float64\n",
            " 4   y           270789 non-null  float64\n",
            " 5   z           270789 non-null  float64\n",
            " 6   label       270789 non-null  int64  \n",
            "dtypes: float64(3), int64(3), object(1)\n",
            "memory usage: 14.5+ MB\n"
          ],
          "name": "stdout"
        }
      ]
    },
    {
      "cell_type": "code",
      "metadata": {
        "id": "aELBKAxciDp2",
        "colab_type": "code",
        "colab": {
          "base_uri": "https://localhost:8080/",
          "height": 153
        },
        "outputId": "6232ea00-5fd9-4d26-c8d4-ba202b5e1078"
      },
      "source": [
        "data.isnull().sum()"
      ],
      "execution_count": null,
      "outputs": [
        {
          "output_type": "execute_result",
          "data": {
            "text/plain": [
              "Unnamed: 0    0\n",
              "user_id       0\n",
              "datetime      0\n",
              "x             0\n",
              "y             0\n",
              "z             0\n",
              "label         0\n",
              "dtype: int64"
            ]
          },
          "metadata": {
            "tags": []
          },
          "execution_count": 7
        }
      ]
    },
    {
      "cell_type": "markdown",
      "metadata": {
        "id": "MZzAsgsWl-JP",
        "colab_type": "text"
      },
      "source": [
        "**Balancing**"
      ]
    },
    {
      "cell_type": "code",
      "metadata": {
        "id": "LRD8nIFoiOo1",
        "colab_type": "code",
        "colab": {
          "base_uri": "https://localhost:8080/",
          "height": 34
        },
        "outputId": "d2e5118e-8c93-4cff-960b-dc48b71a1536"
      },
      "source": [
        "cnt = data['label'].value_counts()\n",
        "mn = min(cnt);\n",
        "print(mn)"
      ],
      "execution_count": null,
      "outputs": [
        {
          "output_type": "stream",
          "text": [
            "8992\n"
          ],
          "name": "stdout"
        }
      ]
    },
    {
      "cell_type": "code",
      "metadata": {
        "id": "Mn1hAiwEmWPc",
        "colab_type": "code",
        "colab": {
          "base_uri": "https://localhost:8080/",
          "height": 34
        },
        "outputId": "ea609fd2-82bc-4fc4-83b5-b89a61fb8a0b"
      },
      "source": [
        "labels = len(cnt) \n",
        "balanced_data = pd.DataFrame()\n",
        "for i in range(1,labels+1):\n",
        "  balanced_data = balanced_data.append(data[data['label']==i].head(mn).copy())\n",
        "balanced_data.shape"
      ],
      "execution_count": null,
      "outputs": [
        {
          "output_type": "execute_result",
          "data": {
            "text/plain": [
              "(107904, 7)"
            ]
          },
          "metadata": {
            "tags": []
          },
          "execution_count": 9
        }
      ]
    },
    {
      "cell_type": "code",
      "metadata": {
        "id": "xd69mI3_xeqv",
        "colab_type": "code",
        "colab": {
          "base_uri": "https://localhost:8080/",
          "height": 238
        },
        "outputId": "198eb2cb-f365-4933-993a-273884a9c250"
      },
      "source": [
        "balanced_data['label'].value_counts()"
      ],
      "execution_count": null,
      "outputs": [
        {
          "output_type": "execute_result",
          "data": {
            "text/plain": [
              "12    8992\n",
              "11    8992\n",
              "10    8992\n",
              "9     8992\n",
              "8     8992\n",
              "7     8992\n",
              "6     8992\n",
              "5     8992\n",
              "4     8992\n",
              "3     8992\n",
              "2     8992\n",
              "1     8992\n",
              "Name: label, dtype: int64"
            ]
          },
          "metadata": {
            "tags": []
          },
          "execution_count": 10
        }
      ]
    },
    {
      "cell_type": "markdown",
      "metadata": {
        "id": "EhWCKWMmzJEE",
        "colab_type": "text"
      },
      "source": [
        "**Standardization**"
      ]
    },
    {
      "cell_type": "code",
      "metadata": {
        "id": "sr1c2dkZzO20",
        "colab_type": "code",
        "colab": {}
      },
      "source": [
        "X = balanced_data[['x','y','z']]\n",
        "y = balanced_data['label']"
      ],
      "execution_count": null,
      "outputs": []
    },
    {
      "cell_type": "code",
      "metadata": {
        "id": "feIv4RHEzho8",
        "colab_type": "code",
        "colab": {
          "base_uri": "https://localhost:8080/",
          "height": 419
        },
        "outputId": "2cbba54f-c56e-4e39-e7e8-ec515ef9d665"
      },
      "source": [
        "scaler = StandardScaler()\n",
        "X = scaler.fit_transform(X)\n",
        "\n",
        "scaled_X = pd.DataFrame(data=X, columns=['x', 'y', 'z'])\n",
        "scaled_X['label'] = y.values\n",
        "\n",
        "scaled_X"
      ],
      "execution_count": null,
      "outputs": [
        {
          "output_type": "execute_result",
          "data": {
            "text/html": [
              "<div>\n",
              "<style scoped>\n",
              "    .dataframe tbody tr th:only-of-type {\n",
              "        vertical-align: middle;\n",
              "    }\n",
              "\n",
              "    .dataframe tbody tr th {\n",
              "        vertical-align: top;\n",
              "    }\n",
              "\n",
              "    .dataframe thead th {\n",
              "        text-align: right;\n",
              "    }\n",
              "</style>\n",
              "<table border=\"1\" class=\"dataframe\">\n",
              "  <thead>\n",
              "    <tr style=\"text-align: right;\">\n",
              "      <th></th>\n",
              "      <th>x</th>\n",
              "      <th>y</th>\n",
              "      <th>z</th>\n",
              "      <th>label</th>\n",
              "    </tr>\n",
              "  </thead>\n",
              "  <tbody>\n",
              "    <tr>\n",
              "      <th>0</th>\n",
              "      <td>-1.563224</td>\n",
              "      <td>0.522496</td>\n",
              "      <td>-0.136867</td>\n",
              "      <td>1</td>\n",
              "    </tr>\n",
              "    <tr>\n",
              "      <th>1</th>\n",
              "      <td>-1.563224</td>\n",
              "      <td>0.522496</td>\n",
              "      <td>-0.136867</td>\n",
              "      <td>1</td>\n",
              "    </tr>\n",
              "    <tr>\n",
              "      <th>2</th>\n",
              "      <td>0.747795</td>\n",
              "      <td>0.601846</td>\n",
              "      <td>-0.117374</td>\n",
              "      <td>1</td>\n",
              "    </tr>\n",
              "    <tr>\n",
              "      <th>3</th>\n",
              "      <td>0.747795</td>\n",
              "      <td>0.601846</td>\n",
              "      <td>-0.117374</td>\n",
              "      <td>1</td>\n",
              "    </tr>\n",
              "    <tr>\n",
              "      <th>4</th>\n",
              "      <td>0.747795</td>\n",
              "      <td>0.601846</td>\n",
              "      <td>-0.117374</td>\n",
              "      <td>1</td>\n",
              "    </tr>\n",
              "    <tr>\n",
              "      <th>...</th>\n",
              "      <td>...</td>\n",
              "      <td>...</td>\n",
              "      <td>...</td>\n",
              "      <td>...</td>\n",
              "    </tr>\n",
              "    <tr>\n",
              "      <th>107899</th>\n",
              "      <td>-0.089798</td>\n",
              "      <td>0.767897</td>\n",
              "      <td>-0.206457</td>\n",
              "      <td>12</td>\n",
              "    </tr>\n",
              "    <tr>\n",
              "      <th>107900</th>\n",
              "      <td>-0.147498</td>\n",
              "      <td>0.767897</td>\n",
              "      <td>-0.206457</td>\n",
              "      <td>12</td>\n",
              "    </tr>\n",
              "    <tr>\n",
              "      <th>107901</th>\n",
              "      <td>-0.147498</td>\n",
              "      <td>0.767897</td>\n",
              "      <td>-0.206457</td>\n",
              "      <td>12</td>\n",
              "    </tr>\n",
              "    <tr>\n",
              "      <th>107902</th>\n",
              "      <td>-0.205198</td>\n",
              "      <td>0.767897</td>\n",
              "      <td>-0.206457</td>\n",
              "      <td>12</td>\n",
              "    </tr>\n",
              "    <tr>\n",
              "      <th>107903</th>\n",
              "      <td>-0.205198</td>\n",
              "      <td>0.767897</td>\n",
              "      <td>-0.206457</td>\n",
              "      <td>12</td>\n",
              "    </tr>\n",
              "  </tbody>\n",
              "</table>\n",
              "<p>107904 rows × 4 columns</p>\n",
              "</div>"
            ],
            "text/plain": [
              "               x         y         z  label\n",
              "0      -1.563224  0.522496 -0.136867      1\n",
              "1      -1.563224  0.522496 -0.136867      1\n",
              "2       0.747795  0.601846 -0.117374      1\n",
              "3       0.747795  0.601846 -0.117374      1\n",
              "4       0.747795  0.601846 -0.117374      1\n",
              "...          ...       ...       ...    ...\n",
              "107899 -0.089798  0.767897 -0.206457     12\n",
              "107900 -0.147498  0.767897 -0.206457     12\n",
              "107901 -0.147498  0.767897 -0.206457     12\n",
              "107902 -0.205198  0.767897 -0.206457     12\n",
              "107903 -0.205198  0.767897 -0.206457     12\n",
              "\n",
              "[107904 rows x 4 columns]"
            ]
          },
          "metadata": {
            "tags": []
          },
          "execution_count": 12
        }
      ]
    },
    {
      "cell_type": "markdown",
      "metadata": {
        "id": "FlitRDa0z580",
        "colab_type": "text"
      },
      "source": [
        "**Framing**"
      ]
    },
    {
      "cell_type": "code",
      "metadata": {
        "id": "Wbb1pmuUz_mG",
        "colab_type": "code",
        "colab": {}
      },
      "source": [
        "frame_size = 30\n",
        "hop_size = 10"
      ],
      "execution_count": null,
      "outputs": []
    },
    {
      "cell_type": "code",
      "metadata": {
        "id": "UqZpKZ0ie431",
        "colab_type": "code",
        "colab": {}
      },
      "source": [
        "def get_frames(df, frame_size, hop_size):\n",
        "    \n",
        "    N_FEATURES = 3\n",
        "    \n",
        "    frames = []\n",
        "    labels = []\n",
        "    \n",
        "    for i in range(0, len(df)-frame_size, hop_size):\n",
        "        x = df['x'].values[i: i+frame_size]\n",
        "        y = df['y'].values[i: i+frame_size]\n",
        "        z = df['z'].values[i: i+frame_size]\n",
        "        \n",
        "        label = stats.mode(df['label'][i: i+frame_size])[0][0]\n",
        "        frames.append([x, y, z])\n",
        "        labels.append(label)\n",
        "        \n",
        "    frames = np.asarray(frames).reshape(-1, frame_size, N_FEATURES)\n",
        "    labels = np.asarray(labels)\n",
        "    \n",
        "    return frames, labels"
      ],
      "execution_count": null,
      "outputs": []
    },
    {
      "cell_type": "code",
      "metadata": {
        "id": "URTPz4QLe98I",
        "colab_type": "code",
        "colab": {
          "base_uri": "https://localhost:8080/",
          "height": 34
        },
        "outputId": "7de3970f-dde2-4f42-fc4d-0ca23bab980a"
      },
      "source": [
        "Frame_X, y = get_frames(scaled_X, frame_size, hop_size)\n",
        "Frame_X.shape, y.shape"
      ],
      "execution_count": null,
      "outputs": [
        {
          "output_type": "execute_result",
          "data": {
            "text/plain": [
              "((10788, 30, 3), (10788,))"
            ]
          },
          "metadata": {
            "tags": []
          },
          "execution_count": 15
        }
      ]
    },
    {
      "cell_type": "markdown",
      "metadata": {
        "id": "zdUhMxAWgL8y",
        "colab_type": "text"
      },
      "source": [
        "**Feature Extraction (Mean, Median, Mode, Variance, Standard Deviation, RMS)**"
      ]
    },
    {
      "cell_type": "code",
      "metadata": {
        "id": "bSq256kpgkJp",
        "colab_type": "code",
        "colab": {
          "base_uri": "https://localhost:8080/",
          "height": 34
        },
        "outputId": "d8f28c18-3529-474d-ac1b-5085598793ff"
      },
      "source": [
        "X = []\n",
        "N_FEATURES = 6\n",
        "for i in range(Frame_X.shape[0]):\n",
        "  mean_X = np.mean(Frame_X[i],axis=0)\n",
        "  median_X = np.median(Frame_X[i],axis=0)\n",
        "  mode_X = np.asarray(stats.mode(Frame_X[i])[0][0])\n",
        "  variance_X = np.var(Frame_X[i],axis=0)\n",
        "  std_deviation_X = np.std(Frame_X[i],axis=0)\n",
        "  rms_X = np.sqrt(np.mean(np.square(Frame_X[i]),axis=0))\n",
        "  comb = np.array([mean_X,median_X,mode_X,variance_X,std_deviation_X,rms_X])\n",
        "  #print(np.squeeze(comb,axis=0).shape)\n",
        "  X.append(np.squeeze(comb))\n",
        "X = np.asarray(X)\n",
        "X.shape"
      ],
      "execution_count": null,
      "outputs": [
        {
          "output_type": "execute_result",
          "data": {
            "text/plain": [
              "(10788, 6, 3)"
            ]
          },
          "metadata": {
            "tags": []
          },
          "execution_count": 16
        }
      ]
    },
    {
      "cell_type": "code",
      "metadata": {
        "id": "ghuqxV9ofUSI",
        "colab_type": "code",
        "colab": {
          "base_uri": "https://localhost:8080/",
          "height": 34
        },
        "outputId": "ab83c4f4-3cde-4a33-cc3e-fc324e546774"
      },
      "source": [
        "X_train, X_test, y_train, y_test = train_test_split(X, y, test_size = 0.2, random_state = 0, stratify = y)\n",
        "X_train.shape, X_test.shape, y_train.shape, y_test.shape"
      ],
      "execution_count": null,
      "outputs": [
        {
          "output_type": "execute_result",
          "data": {
            "text/plain": [
              "((8630, 6, 3), (2158, 6, 3), (8630,), (2158,))"
            ]
          },
          "metadata": {
            "tags": []
          },
          "execution_count": 17
        }
      ]
    },
    {
      "cell_type": "markdown",
      "metadata": {
        "id": "zZFmjCKp8vUI",
        "colab_type": "text"
      },
      "source": [
        "# RANDOM FOREST"
      ]
    },
    {
      "cell_type": "code",
      "metadata": {
        "id": "l_6WLCHF8UBd",
        "colab_type": "code",
        "colab": {}
      },
      "source": [
        "from sklearn.ensemble import RandomForestRegressor\n",
        "rf = RandomForestRegressor(n_estimators = 1000, random_state = 42)\n",
        "nsamples, nx, ny = X_train.shape\n",
        "d2_X_train = X_train.reshape((nsamples, nx*ny))\n",
        "\n",
        "rf.fit(d2_X_train, y_train);"
      ],
      "execution_count": null,
      "outputs": []
    },
    {
      "cell_type": "code",
      "metadata": {
        "id": "otgb3dd79Jat",
        "colab_type": "code",
        "colab": {}
      },
      "source": [
        "nsamples, nx, ny = X_test.shape\n",
        "d2_X_test = X_test.reshape((nsamples, nx*ny))\n",
        "predictions = rf.predict(d2_X_test)"
      ],
      "execution_count": null,
      "outputs": []
    },
    {
      "cell_type": "code",
      "metadata": {
        "id": "SQk69qzJAIKp",
        "colab_type": "code",
        "colab": {}
      },
      "source": [
        "errors = abs (predictions - y_test)"
      ],
      "execution_count": null,
      "outputs": []
    },
    {
      "cell_type": "code",
      "metadata": {
        "id": "heYuWqVeAd4P",
        "colab_type": "code",
        "colab": {
          "base_uri": "https://localhost:8080/",
          "height": 34
        },
        "outputId": "65128f3a-a3b7-4fdb-8389-f3f52d76a319"
      },
      "source": [
        "print('Mean Absolute Error: ', round(np.mean(errors),2))"
      ],
      "execution_count": null,
      "outputs": [
        {
          "output_type": "stream",
          "text": [
            "Mean Absolute Error:  1.34\n"
          ],
          "name": "stdout"
        }
      ]
    },
    {
      "cell_type": "markdown",
      "metadata": {
        "id": "IDmlc1keBH1f",
        "colab_type": "text"
      },
      "source": [
        "# Performance"
      ]
    },
    {
      "cell_type": "code",
      "metadata": {
        "id": "kqGamEIuAzis",
        "colab_type": "code",
        "colab": {}
      },
      "source": [
        "#Mean Absolute Percentage Error\n",
        "mape = 100*(errors/y_test) "
      ],
      "execution_count": null,
      "outputs": []
    },
    {
      "cell_type": "code",
      "metadata": {
        "id": "i-CR1SdfBY-K",
        "colab_type": "code",
        "colab": {
          "base_uri": "https://localhost:8080/",
          "height": 34
        },
        "outputId": "4b4004d8-4cda-4241-b5d1-bea5e4eca960"
      },
      "source": [
        "accuracy = 100 - np.mean(mape)\n",
        "print('Accuracy: ', round(accuracy,2), '%')"
      ],
      "execution_count": null,
      "outputs": [
        {
          "output_type": "stream",
          "text": [
            "Accuracy:  64.76 %\n"
          ],
          "name": "stdout"
        }
      ]
    },
    {
      "cell_type": "code",
      "metadata": {
        "id": "yvHKQCpIBvX1",
        "colab_type": "code",
        "colab": {
          "base_uri": "https://localhost:8080/",
          "height": 34
        },
        "outputId": "ba3f0d4e-5810-40f1-9cc7-4a2878ee86d9"
      },
      "source": [
        "#Score\n",
        "print('Score: ',rf.score(d2_X_test, y_test)*100,'%')"
      ],
      "execution_count": null,
      "outputs": [
        {
          "output_type": "stream",
          "text": [
            "Score:  71.15791816413237 %\n"
          ],
          "name": "stdout"
        }
      ]
    },
    {
      "cell_type": "markdown",
      "metadata": {
        "id": "jqI3uTscEiQd",
        "colab_type": "text"
      },
      "source": [
        "# TRY"
      ]
    },
    {
      "cell_type": "code",
      "metadata": {
        "id": "7M0gaQFnFTkD",
        "colab_type": "code",
        "colab": {}
      },
      "source": [
        "from sklearn.ensemble import RandomForestRegressor\n",
        "\n",
        "nsamples, nx, ny = X_train.shape\n",
        "d2_X_train = X_train.reshape((nsamples, nx*ny))\n",
        "\n",
        "nsamples, nx, ny = X_test.shape\n",
        "d2_X_test = X_test.reshape((nsamples, nx*ny))"
      ],
      "execution_count": null,
      "outputs": []
    },
    {
      "cell_type": "code",
      "metadata": {
        "id": "cnsSTzFAElW6",
        "colab_type": "code",
        "colab": {
          "base_uri": "https://localhost:8080/",
          "height": 68
        },
        "outputId": "0086a197-573d-4155-bbd7-35abfeadc7cf"
      },
      "source": [
        "for i in range (1):\n",
        "  rf = RandomForestRegressor(n_estimators = 1000, random_state = 42)\n",
        "\n",
        "  rf.fit(d2_X_train, y_train);\n",
        "\n",
        "  predictions = rf.predict(d2_X_test)\n",
        "\n",
        "  errors = abs (predictions - y_test)\n",
        "  print('Mean Absolute Error: ', round(np.mean(errors),2))\n",
        "\n",
        "  #Mean Absolute Percentage Error\n",
        "  mape = 100*(errors/y_test) \n",
        "  accuracy = 100 - np.mean(mape)\n",
        "  print('Accuracy: ', round(accuracy,2), '%')\n",
        "\n",
        "  #Score\n",
        "  print('Score: ',rf.score(d2_X_test, y_test)*100,'%')\n",
        "\n",
        "\n"
      ],
      "execution_count": null,
      "outputs": [
        {
          "output_type": "stream",
          "text": [
            "Mean Absolute Error:  1.34\n",
            "Accuracy:  64.76 %\n",
            "Score:  71.15791816413237 %\n"
          ],
          "name": "stdout"
        }
      ]
    },
    {
      "cell_type": "code",
      "metadata": {
        "id": "KHf3oLNAFBcL",
        "colab_type": "code",
        "colab": {}
      },
      "source": [
        ""
      ],
      "execution_count": null,
      "outputs": []
    },
    {
      "cell_type": "code",
      "metadata": {
        "id": "Ps0gDpvIHx2D",
        "colab_type": "code",
        "colab": {}
      },
      "source": [
        ""
      ],
      "execution_count": null,
      "outputs": []
    },
    {
      "cell_type": "code",
      "metadata": {
        "id": "dzFysSmqK9IZ",
        "colab_type": "code",
        "colab": {}
      },
      "source": [
        ""
      ],
      "execution_count": null,
      "outputs": []
    },
    {
      "cell_type": "code",
      "metadata": {
        "id": "e7wHlMs0OCLi",
        "colab_type": "code",
        "colab": {}
      },
      "source": [
        ""
      ],
      "execution_count": null,
      "outputs": []
    }
  ]
}